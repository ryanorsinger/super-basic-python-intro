{
 "cells": [
  {
   "cell_type": "markdown",
   "metadata": {
    "_uuid": "625c587f57522c988f35e92b515b8d8ef1f323d6"
   },
   "source": [
    "# Intro to Programming in Python\n",
    "## This notebook is an interactive tool to share/run code"
   ]
  },
  {
   "cell_type": "markdown",
   "metadata": {},
   "source": [
    " > \"Programming languages allow us to formalize instructions and express logical rules, business rules, mathematics, processes, and automation instructions in one single notation.\" - Ryan Orsinger"
   ]
  },
  {
   "cell_type": "markdown",
   "metadata": {},
   "source": [
    "# Part I - Basic Buiding Blocks\n",
    "0. Orientation - How to run code in this notebook\n",
    "1. Printing values\n",
    "2. Using comments\n",
    "3. Variables, assignment, and re-assignment\n",
    "4. Basic data types\n",
    "5. Mathematical operations in Python\n",
    "6. Logical operations in Python\n",
    "7. Comparison operators"
   ]
  },
  {
   "cell_type": "markdown",
   "metadata": {},
   "source": [
    "### 0. Orientation\n",
    "- Jupyter Notebooks, which Kaggle calls \"Kernels\", are a way to share and interactively run code from your browser.\n",
    "- Notebooks are made of cells\n",
    "- Each cell contains either code or text. \n",
    "- Code cells run the code, text cells render the text\n",
    "- To run a cell, click on the cell and click the Play button or do \"shift + Enter\" on your keyboard.\n",
    "- Python runs in all kinds of environments. These instructions are specific to Kaggle Kernels/Jupyter Notebooks."
   ]
  },
  {
   "cell_type": "markdown",
   "metadata": {},
   "source": [
    "### 1. Printing with the `print()` function"
   ]
  },
  {
   "cell_type": "code",
   "execution_count": 1,
   "metadata": {},
   "outputs": [
    {
     "name": "stdout",
     "output_type": "stream",
     "text": [
      "Good afternoon, ya'll!\n"
     ]
    }
   ],
   "source": [
    "print(\"Good afternoon, ya'll!\")"
   ]
  },
  {
   "cell_type": "code",
   "execution_count": 2,
   "metadata": {},
   "outputs": [
    {
     "name": "stdout",
     "output_type": "stream",
     "text": [
      "Today is a great day to learn\n"
     ]
    }
   ],
   "source": [
    "# assigning a value to a variable\n",
    "today = \"Today is a great day to learn\"\n",
    "print(today)"
   ]
  },
  {
   "cell_type": "code",
   "execution_count": 3,
   "metadata": {},
   "outputs": [
    {
     "name": "stdout",
     "output_type": "stream",
     "text": [
      "Use the print command\n",
      "To print\n",
      "Prints each and every line\n"
     ]
    }
   ],
   "source": [
    "print(\"Use the print command\")\n",
    "print(\"To print\")\n",
    "print(\"Prints each and every line\")"
   ]
  },
  {
   "cell_type": "code",
   "execution_count": 4,
   "metadata": {},
   "outputs": [
    {
     "data": {
      "text/plain": [
       "'Notebook cells automatically print the last line of code'"
      ]
     },
     "execution_count": 4,
     "metadata": {},
     "output_type": "execute_result"
    }
   ],
   "source": [
    "\"Notebook cells automatically print the last line of code\""
   ]
  },
  {
   "cell_type": "code",
   "execution_count": 5,
   "metadata": {},
   "outputs": [
    {
     "data": {
      "text/plain": [
       "5"
      ]
     },
     "execution_count": 5,
     "metadata": {},
     "output_type": "execute_result"
    }
   ],
   "source": [
    "# run this cell and the number 5 will be printed\n",
    "5"
   ]
  },
  {
   "cell_type": "code",
   "execution_count": 6,
   "metadata": {},
   "outputs": [
    {
     "data": {
      "text/plain": [
       "'only the last line'"
      ]
     },
     "execution_count": 6,
     "metadata": {},
     "output_type": "execute_result"
    }
   ],
   "source": [
    "\"Multiple lines\"\n",
    "\"do not print automatically\"\n",
    "\"only the last line\""
   ]
  },
  {
   "cell_type": "code",
   "execution_count": 7,
   "metadata": {},
   "outputs": [
    {
     "data": {
      "text/plain": [
       "\"I'm writing Python with ya'll right now\""
      ]
     },
     "execution_count": 7,
     "metadata": {},
     "output_type": "execute_result"
    }
   ],
   "source": [
    "\"I'm writing Python with ya'll right now\""
   ]
  },
  {
   "cell_type": "code",
   "execution_count": 8,
   "metadata": {},
   "outputs": [
    {
     "name": "stdout",
     "output_type": "stream",
     "text": [
      "That means\n",
      "The print command is important.\n",
      "When we want to print each line\n"
     ]
    }
   ],
   "source": [
    "print(\"That means\")\n",
    "print(\"The print command is important.\")\n",
    "print(\"When we want to print each line\")"
   ]
  },
  {
   "cell_type": "code",
   "execution_count": 9,
   "metadata": {},
   "outputs": [],
   "source": [
    "# Exercise: Print your name in this cell. Be sure to use quotation marks.\n"
   ]
  },
  {
   "cell_type": "code",
   "execution_count": 10,
   "metadata": {},
   "outputs": [],
   "source": [
    "# Exercise: Print your favorite number in this cell\n"
   ]
  },
  {
   "cell_type": "code",
   "execution_count": 11,
   "metadata": {},
   "outputs": [],
   "source": [
    "# Exercise: Print the number 7 in this cell\n"
   ]
  },
  {
   "cell_type": "code",
   "execution_count": 12,
   "metadata": {},
   "outputs": [],
   "source": [
    "# Exercise: Print out 3 + 4 in this cell\n",
    "# Make Python do the math rather than adding 3 + 4 in your head\n"
   ]
  },
  {
   "cell_type": "code",
   "execution_count": 13,
   "metadata": {},
   "outputs": [],
   "source": [
    "# Exercise: Print out 3 * 5 in this cell, * means multiply\n"
   ]
  },
  {
   "cell_type": "markdown",
   "metadata": {},
   "source": [
    "### 2. Comments are how we notate our code with descriptive text\n",
    "- Python comments are created by the hashtag symbol. \n",
    "- The hashtag \"comments out\" everything to the right of the hashtag.\n",
    "- Comments exist in the code but do not execute\n",
    "- Commenting your code is an industry best practice\n",
    "- A hashtag at the beginning of a line \"comments out"
   ]
  },
  {
   "cell_type": "code",
   "execution_count": 14,
   "metadata": {},
   "outputs": [],
   "source": [
    "# This is a comment. Run this cell. Do you see anything? Why or why not?"
   ]
  },
  {
   "cell_type": "code",
   "execution_count": 15,
   "metadata": {},
   "outputs": [],
   "source": [
    "# First, run this cell.\n",
    "# Then delete the hashtag at the beginning of the last line.\n",
    "# Last, run the cell again.\n",
    "# print(\"This is a 'commented out' print command\")"
   ]
  },
  {
   "cell_type": "code",
   "execution_count": 16,
   "metadata": {},
   "outputs": [],
   "source": [
    "# In Python\n",
    "# Comments are a best-practice when it comes to communicating to your future self and to fellow developers\n",
    "# print(\"Once the # at the beginning of this line is removed, this string will print.\") # additional hashtags make additional comments"
   ]
  },
  {
   "cell_type": "markdown",
   "metadata": {},
   "source": [
    "### 3. Variables point to values and give them a name\n",
    "- \"Assigning a variable\" means to bind value to a variable\n",
    "- Variables allow us to name values\n",
    "- Variables hold onto values for later.\n",
    "- Variables hold their assigned value(s) until \n",
    "- Applications use the same variable to hold different values for different users "
   ]
  },
  {
   "cell_type": "code",
   "execution_count": 17,
   "metadata": {},
   "outputs": [
    {
     "name": "stdout",
     "output_type": "stream",
     "text": [
      "Hello, Everybody!\n"
     ]
    }
   ],
   "source": [
    "# Variables hold values that we use later in the program by name.\n",
    "message = \"Hello, Everybody!\"\n",
    "print(message)"
   ]
  },
  {
   "cell_type": "code",
   "execution_count": 18,
   "metadata": {},
   "outputs": [
    {
     "name": "stdout",
     "output_type": "stream",
     "text": [
      "If you can't solve a problem, then there is an easier problem you can solve:  find it.\n"
     ]
    }
   ],
   "source": [
    "favorite_quote = \"If you can't solve a problem, then there is an easier problem you can solve:  find it.\"\n",
    "print(favorite_quote)"
   ]
  },
  {
   "cell_type": "code",
   "execution_count": 19,
   "metadata": {},
   "outputs": [
    {
     "name": "stdout",
     "output_type": "stream",
     "text": [
      "My favorite food is lasagna\n"
     ]
    }
   ],
   "source": [
    "# Variables are assigned to point to values.\n",
    "favorite_food = \"lasagna\"\n",
    "print(\"My favorite food is\", favorite_food)"
   ]
  },
  {
   "cell_type": "code",
   "execution_count": 20,
   "metadata": {},
   "outputs": [
    {
     "name": "stdout",
     "output_type": "stream",
     "text": [
      "I changed my mind. My favorite food is actually pizza\n"
     ]
    }
   ],
   "source": [
    "# Variables can also be re-assigned to point to different values.\n",
    "favorite_food = \"pizza\" \n",
    "print(\"I changed my mind. My favorite food is actually\", favorite_food)"
   ]
  },
  {
   "cell_type": "code",
   "execution_count": 21,
   "metadata": {},
   "outputs": [],
   "source": [
    "# Exercise: Reassign the favorite_food variable to hold your own favorite food, then print the variable.\n"
   ]
  },
  {
   "cell_type": "code",
   "execution_count": 22,
   "metadata": {},
   "outputs": [],
   "source": [
    "# Exercise: Create and assign the variable favorite_number to hold your own favorite number.\n"
   ]
  },
  {
   "cell_type": "code",
   "execution_count": 23,
   "metadata": {},
   "outputs": [],
   "source": [
    "# Exercise: Reassign the favorite_food variable to hold the number 7. \n",
    "# What happens and why? Does this match your expectations?\n"
   ]
  },
  {
   "cell_type": "markdown",
   "metadata": {},
   "source": [
    "### 4. Data Types \n",
    "\n",
    "Each piece of data has two fundamental characteristics:\n",
    "- The value of the data itself.\n",
    "- Every value has a data type which explains what kind of data the value is.\n",
    "- For example, the integer 2 has the value of 2 and the data type is integer.\n",
    "- The first data-types to learn:\n",
    "    - None\n",
    "    - Boolean\n",
    "    - Integer\n",
    "    - Float\n",
    "    - String\n",
    "    - List\n",
    "    - Function"
   ]
  },
  {
   "cell_type": "code",
   "execution_count": 24,
   "metadata": {},
   "outputs": [
    {
     "data": {
      "text/plain": [
       "NoneType"
      ]
     },
     "execution_count": 24,
     "metadata": {},
     "output_type": "execute_result"
    }
   ],
   "source": [
    "# The \"None\" data type represents the absence of a value. This is called \"null\" in some other programming languages\n",
    "type(None)"
   ]
  },
  {
   "cell_type": "code",
   "execution_count": 25,
   "metadata": {},
   "outputs": [
    {
     "data": {
      "text/plain": [
       "bool"
      ]
     },
     "execution_count": 25,
     "metadata": {},
     "output_type": "execute_result"
    }
   ],
   "source": [
    "type(True)"
   ]
  },
  {
   "cell_type": "code",
   "execution_count": 26,
   "metadata": {},
   "outputs": [
    {
     "data": {
      "text/plain": [
       "bool"
      ]
     },
     "execution_count": 26,
     "metadata": {},
     "output_type": "execute_result"
    }
   ],
   "source": [
    "type(False)"
   ]
  },
  {
   "cell_type": "code",
   "execution_count": 27,
   "metadata": {},
   "outputs": [
    {
     "data": {
      "text/plain": [
       "int"
      ]
     },
     "execution_count": 27,
     "metadata": {},
     "output_type": "execute_result"
    }
   ],
   "source": [
    "# Numbers without a decimal are integers. Integers can be negative or positive.\n",
    "type(-99)"
   ]
  },
  {
   "cell_type": "code",
   "execution_count": 28,
   "metadata": {},
   "outputs": [
    {
     "data": {
      "text/plain": [
       "float"
      ]
     },
     "execution_count": 28,
     "metadata": {},
     "output_type": "execute_result"
    }
   ],
   "source": [
    "type(2.3)"
   ]
  },
  {
   "cell_type": "code",
   "execution_count": 29,
   "metadata": {},
   "outputs": [
    {
     "data": {
      "text/plain": [
       "0.25"
      ]
     },
     "execution_count": 29,
     "metadata": {},
     "output_type": "execute_result"
    }
   ],
   "source": [
    ".5 * .5"
   ]
  },
  {
   "cell_type": "code",
   "execution_count": 30,
   "metadata": {},
   "outputs": [
    {
     "data": {
      "text/plain": [
       "str"
      ]
     },
     "execution_count": 30,
     "metadata": {},
     "output_type": "execute_result"
    }
   ],
   "source": [
    "type(\"Howdy!\")"
   ]
  },
  {
   "cell_type": "code",
   "execution_count": 31,
   "metadata": {},
   "outputs": [
    {
     "name": "stdout",
     "output_type": "stream",
     "text": [
      "True\n",
      "False\n"
     ]
    }
   ],
   "source": [
    "# True and False are the only two Boolean values.\n",
    "True\n",
    "False\n",
    "\n",
    "print(True)\n",
    "print(False)"
   ]
  },
  {
   "cell_type": "markdown",
   "metadata": {},
   "source": [
    "### 5. Mathematical Operations in Python\n",
    "- Computers are not intelligent. They do 2nd grade math as fast as possible.\n",
    "- Programming languages need to have the ability to perform mathematical operations.\n",
    "- Mathematical operators in Python evaluate and provide\n",
    "- Order of operations in Python follows PEMDAS:\n",
    "    - Parentheses\n",
    "    - Exponents\n",
    "    - Multiplication\n",
    "    - Division\n",
    "    - Addition\n",
    "    - Subtraction"
   ]
  },
  {
   "cell_type": "markdown",
   "metadata": {},
   "source": [
    "###  Operators operate on values and produce values\n",
    "#### Let's look at some math operators in Python\n",
    "- `+` adds two numbers together\n",
    "- `-` subtracts the second number from the first\n",
    "- `*` multiplies both numbers and returns the product\n",
    "- `/` divides the first number by the second\n",
    "- `%` provides the remainder of dividing the first number by the second.  (called the modulo operator)\n",
    "- `**` is the exponentiation operator. 2 raised to the 3rd power is `2**3`"
   ]
  },
  {
   "cell_type": "code",
   "execution_count": 32,
   "metadata": {},
   "outputs": [],
   "source": [
    "# Exercise: Add 1 plus 2 plus 3 plus 4 plus 5 plus 6 plus 7 plus 8 plus 9 plus 10\n"
   ]
  },
  {
   "cell_type": "code",
   "execution_count": 33,
   "metadata": {},
   "outputs": [],
   "source": [
    "# Exercise: Subtract 23 from 55\n"
   ]
  },
  {
   "cell_type": "code",
   "execution_count": 34,
   "metadata": {},
   "outputs": [],
   "source": [
    "# Exercise: Multiply 2.3 by 4.4. What's the data-type that this returns?\n"
   ]
  },
  {
   "cell_type": "code",
   "execution_count": 35,
   "metadata": {},
   "outputs": [],
   "source": [
    "# Exercise: Multiply 3 by 5.\n"
   ]
  },
  {
   "cell_type": "code",
   "execution_count": 36,
   "metadata": {},
   "outputs": [],
   "source": [
    "# Exercise: Print out the data-type of the result of multiplying 11 * 7\n"
   ]
  },
  {
   "cell_type": "code",
   "execution_count": 37,
   "metadata": {},
   "outputs": [],
   "source": [
    "# Exercise: Divide 1 by 2. What happens? What data type is returned?\n"
   ]
  },
  {
   "cell_type": "code",
   "execution_count": 38,
   "metadata": {},
   "outputs": [],
   "source": [
    "# Exercise: Divide 5 by 0. What happens? Why do you think that is?\n"
   ]
  },
  {
   "cell_type": "code",
   "execution_count": 39,
   "metadata": {},
   "outputs": [],
   "source": [
    "# Exercise: Use the modulo operator to obtain the remainder of dividing 5 by 2\n"
   ]
  },
  {
   "cell_type": "code",
   "execution_count": 40,
   "metadata": {},
   "outputs": [],
   "source": [
    "# Exercise: Use the modulo operator to obtain the remainder of dividing 8 by 2\n"
   ]
  },
  {
   "cell_type": "code",
   "execution_count": 41,
   "metadata": {},
   "outputs": [],
   "source": [
    "# Exercise: Use the modulo operator to obtain the remainder of dividing 9 by 3\n"
   ]
  },
  {
   "cell_type": "code",
   "execution_count": 42,
   "metadata": {},
   "outputs": [],
   "source": [
    "# Exercise: Use the modulo operator to obtain the remainder of dividing 7 by 2\n"
   ]
  },
  {
   "cell_type": "code",
   "execution_count": 43,
   "metadata": {},
   "outputs": [],
   "source": [
    "# Exercise: Use the exponent operator to raise 2 to the 3rd power\n"
   ]
  },
  {
   "cell_type": "code",
   "execution_count": 44,
   "metadata": {},
   "outputs": [],
   "source": [
    "# Exercise: Use the exponent operator to raise 10 to the 10th power\n"
   ]
  },
  {
   "cell_type": "code",
   "execution_count": 45,
   "metadata": {},
   "outputs": [],
   "source": [
    "# Exercise: Use the exponent operator to raise 100 to the 100th power\n"
   ]
  },
  {
   "cell_type": "code",
   "execution_count": 46,
   "metadata": {},
   "outputs": [],
   "source": [
    "# Exercise: Use the exponent operator to raise 2 to the negative 1st power\n"
   ]
  },
  {
   "cell_type": "code",
   "execution_count": 47,
   "metadata": {},
   "outputs": [],
   "source": [
    "# Exercise: Use the exponent operator to raise 123 to the 0th power\n"
   ]
  },
  {
   "cell_type": "code",
   "execution_count": 48,
   "metadata": {},
   "outputs": [],
   "source": [
    "# Exercise: Use what you have learned to determine the average of the following variables\n",
    "a = 5\n",
    "b = 7\n",
    "c = 9\n",
    "d = 17\n",
    "e = 11\n",
    "\n"
   ]
  },
  {
   "cell_type": "markdown",
   "metadata": {},
   "source": [
    "### 6. Logical Operations in Python\n",
    "- Most common logical operations are:\n",
    "    - And\n",
    "    - Or\n",
    "    - Not\n",
    "- For a reminder, see [Conjunction Junction from School House Rock](https://www.youtube.com/watch?v=4AyjKgz9tKg)"
   ]
  },
  {
   "cell_type": "code",
   "execution_count": 49,
   "metadata": {},
   "outputs": [
    {
     "data": {
      "text/plain": [
       "True"
      ]
     },
     "execution_count": 49,
     "metadata": {},
     "output_type": "execute_result"
    }
   ],
   "source": [
    "# \"Not\" operator changes the boolean value. (Only booleans are True and False)\n",
    "is_raining = False\n",
    "not is_raining"
   ]
  },
  {
   "cell_type": "code",
   "execution_count": 50,
   "metadata": {},
   "outputs": [],
   "source": [
    "# Boolean values assigned to variables \n",
    "right_here_now = True\n",
    "learning_python = True\n",
    "on_the_moon = False"
   ]
  },
  {
   "cell_type": "code",
   "execution_count": 51,
   "metadata": {},
   "outputs": [
    {
     "name": "stdout",
     "output_type": "stream",
     "text": [
      "False\n"
     ]
    }
   ],
   "source": [
    "print(right_here_now and on_the_moon)"
   ]
  },
  {
   "cell_type": "code",
   "execution_count": 52,
   "metadata": {},
   "outputs": [
    {
     "name": "stdout",
     "output_type": "stream",
     "text": [
      "True\n"
     ]
    }
   ],
   "source": [
    "# Read the line of code below and think about the result. \n",
    "\n",
    "print(learning_python or on_the_moon)"
   ]
  },
  {
   "cell_type": "code",
   "execution_count": 53,
   "metadata": {},
   "outputs": [
    {
     "name": "stdout",
     "output_type": "stream",
     "text": [
      "This happens no matter what\n"
     ]
    }
   ],
   "source": [
    "indenting = False\n",
    "if indenting:\n",
    "    print(\"We are indenting b/c the indent means the indended stuff belongs to the if\")\n",
    "print(\"This happens no matter what\")"
   ]
  },
  {
   "cell_type": "code",
   "execution_count": 54,
   "metadata": {},
   "outputs": [
    {
     "name": "stdout",
     "output_type": "stream",
     "text": [
      "So glad you made it today!\n",
      "Wherever you go, there you are.\n",
      "Unindented means the if/else is over, and we're back to our regularly scheduled programming.\n"
     ]
    }
   ],
   "source": [
    "if right_here_now:\n",
    "    print(\"So glad you made it today!\")\n",
    "    print(\"Wherever you go, there you are.\")\n",
    "else:\n",
    "    print(\"You are not right here now.\")\n",
    "    \n",
    "print(\"Unindented means the if/else is over, and we're back to our regularly scheduled programming.\")"
   ]
  },
  {
   "cell_type": "code",
   "execution_count": 55,
   "metadata": {
    "_uuid": "c4830a133cdd79071a8c68ad633ff996b88856ed"
   },
   "outputs": [
    {
     "name": "stdout",
     "output_type": "stream",
     "text": [
      "You are not on the moon!\n"
     ]
    }
   ],
   "source": [
    "# Before running this cell, think about and predict the outcome.\n",
    "if on_the_moon:\n",
    "    print(\"You are currently on a lunar base.\")\n",
    "else:\n",
    "    print(\"You are not on the moon!\")"
   ]
  },
  {
   "cell_type": "code",
   "execution_count": 56,
   "metadata": {
    "_uuid": "c4830a133cdd79071a8c68ad633ff996b88856ed"
   },
   "outputs": [
    {
     "name": "stdout",
     "output_type": "stream",
     "text": [
      "We are right here now and learning python.\n"
     ]
    }
   ],
   "source": [
    "# Before running this cell, think about and predict the outcome.\n",
    "if right_here_now and learning_python:\n",
    "    print(\"We are right here now and learning python.\")"
   ]
  },
  {
   "cell_type": "code",
   "execution_count": 57,
   "metadata": {
    "_uuid": "c4830a133cdd79071a8c68ad633ff996b88856ed"
   },
   "outputs": [],
   "source": [
    "# Before running this cell, think about and predict the outcome.\n",
    "if right_here_now and learning_python and on_the_moon:\n",
    "    print(\"You must be magic since you're on the moon and here and learning Python all at the same time.\")"
   ]
  },
  {
   "cell_type": "code",
   "execution_count": 58,
   "metadata": {
    "_uuid": "c4830a133cdd79071a8c68ad633ff996b88856ed"
   },
   "outputs": [
    {
     "name": "stdout",
     "output_type": "stream",
     "text": [
      "How many True values does it take with an OR for the entirety to be True?\n"
     ]
    }
   ],
   "source": [
    "# Before running this cell, think about and predict the outcome.\n",
    "if right_here_now or on_the_moon:\n",
    "    print(\"How many True values does it take with an OR for the entirety to be True?\")"
   ]
  },
  {
   "cell_type": "code",
   "execution_count": 59,
   "metadata": {},
   "outputs": [
    {
     "name": "stdout",
     "output_type": "stream",
     "text": [
      "In addition to learning python, you are either right here now or on the moon\n"
     ]
    }
   ],
   "source": [
    "# Before running this cell, think about and predict the outcome.\n",
    "# Carefully consider the parentheses...\n",
    "if learning_python and (right_here_now or on_the_moon):\n",
    "    print(\"In addition to learning python, you are either right here now or on the moon\")"
   ]
  },
  {
   "cell_type": "code",
   "execution_count": 60,
   "metadata": {},
   "outputs": [],
   "source": [
    "# Exercise: Create a variable called is_raining and assign it True or False depending on if it's raining right now\n"
   ]
  },
  {
   "cell_type": "code",
   "execution_count": 61,
   "metadata": {},
   "outputs": [],
   "source": [
    "# Exercise: Create a variable named will_rain_later and assign a value of True or False if it may rain later today\n"
   ]
  },
  {
   "cell_type": "code",
   "execution_count": 62,
   "metadata": {},
   "outputs": [],
   "source": [
    "# Exercise: Create an \"if\" condition that checks if it's raining now or later. \n",
    "# If it is going to rain now or later, then print out \"I'll bring an umbrella\"\n"
   ]
  },
  {
   "cell_type": "markdown",
   "metadata": {},
   "source": [
    "### 7. Comparison Operations in everyday life\n",
    "- Comparison operators compare two values and give us a True or False answer\n",
    "- Some comparisons in the real worl:\n",
    "    - Are these two things equal?\n",
    "    - Are these two things not equal?\n",
    "    - Is A greather than B?\n",
    "    - Is A greater than or equal to B?\n",
    "    - Is A less than B?\n",
    "    - Is A less than or equal to B?"
   ]
  },
  {
   "cell_type": "markdown",
   "metadata": {},
   "source": [
    "### Python Comparison Operators compare two values and return a True or False\n",
    "- `==` compares two values to see if they are the same value.\n",
    "- `!=` asks if the values on each side of the operator are **not** the same.]\n",
    "- `<` and `<=` are less than and less than or equal to\n",
    "- `>` and `>=` are greater than and greater than or equal to, respectively."
   ]
  },
  {
   "cell_type": "code",
   "execution_count": 63,
   "metadata": {},
   "outputs": [
    {
     "name": "stdout",
     "output_type": "stream",
     "text": [
      "True\n",
      "True\n"
     ]
    }
   ],
   "source": [
    "print(5 == 5)\n",
    "print(-4 + 4 == 0)"
   ]
  },
  {
   "cell_type": "code",
   "execution_count": 64,
   "metadata": {},
   "outputs": [
    {
     "data": {
      "text/plain": [
       "True"
      ]
     },
     "execution_count": 64,
     "metadata": {},
     "output_type": "execute_result"
    }
   ],
   "source": [
    "5 < 10"
   ]
  },
  {
   "cell_type": "code",
   "execution_count": 65,
   "metadata": {},
   "outputs": [
    {
     "name": "stdout",
     "output_type": "stream",
     "text": [
      "False\n",
      "True\n"
     ]
    }
   ],
   "source": [
    "print(\"Hello\" == \"Goodbye\")\n",
    "print(\"Hello\" != \"Goodbye\") # != means \"not equal to\" \n",
    "# = assignment\n",
    "# == comparison\n",
    "# != not the same"
   ]
  },
  {
   "cell_type": "markdown",
   "metadata": {},
   "source": [
    "# Part II -  Control Structures, Lists, and Functions\n",
    "- With programming and analysis, we work with lots of lists of numbers.\n",
    "- The primary data type in Python for holding lists of numbers is called a list. It's like an array in other programming languages."
   ]
  },
  {
   "cell_type": "markdown",
   "metadata": {},
   "source": [
    "### Lists are ordered lists of values.\n",
    "- Created with square brackets\n",
    "- Lists can hold any value(s)\n",
    "- Lists can hold lists. \n",
    "- Think of a list as a column of values in a spreadsheet (1 dimensional list)\n",
    "- Think of a list of lists as an the entire spreadsheet  (2 dimensional list)\n",
    "- We can have lists of lists of lists, and that's like having a workbook of spreadsheets (3 dimensions)\n",
    "- There are other types of sequences and collections in Python, but lists are a solid start!"
   ]
  },
  {
   "cell_type": "code",
   "execution_count": 66,
   "metadata": {},
   "outputs": [
    {
     "name": "stdout",
     "output_type": "stream",
     "text": [
      "['John', 'Paul', 'George']\n"
     ]
    }
   ],
   "source": [
    "# Lists are created with square brackets. Each item on the list is separated by a comma. Lists can hold any data type\n",
    "beatles = [\"John\", \"Paul\", \"George\"]\n",
    "print(beatles)"
   ]
  },
  {
   "cell_type": "code",
   "execution_count": 67,
   "metadata": {},
   "outputs": [
    {
     "name": "stdout",
     "output_type": "stream",
     "text": [
      "How many times John shows up is 1\n"
     ]
    },
    {
     "data": {
      "text/plain": [
       "['George', 'Paul', 'John']"
      ]
     },
     "execution_count": 67,
     "metadata": {},
     "output_type": "execute_result"
    }
   ],
   "source": [
    "# type out the variable, add a period, then hit TAB\n",
    "print(\"How many times John shows up is\", beatles.count(\"John\"))\n",
    "beatles.reverse()\n",
    "beatles"
   ]
  },
  {
   "cell_type": "code",
   "execution_count": 68,
   "metadata": {},
   "outputs": [
    {
     "name": "stdout",
     "output_type": "stream",
     "text": [
      "['George', 'Paul', 'John', 'Ringo']\n"
     ]
    }
   ],
   "source": [
    "# Lists have built-in functions\n",
    "beatles.append(\"Ringo\") # Don't forget Ringo\n",
    "print(beatles)"
   ]
  },
  {
   "cell_type": "code",
   "execution_count": 69,
   "metadata": {},
   "outputs": [
    {
     "data": {
      "text/plain": [
       "['George', 'Paul', 'John', 'Ringo']"
      ]
     },
     "execution_count": 69,
     "metadata": {},
     "output_type": "execute_result"
    }
   ],
   "source": [
    "beatles"
   ]
  },
  {
   "cell_type": "code",
   "execution_count": 70,
   "metadata": {},
   "outputs": [
    {
     "name": "stdout",
     "output_type": "stream",
     "text": [
      "['Ringo', 'John', 'Paul', 'George']\n"
     ]
    }
   ],
   "source": [
    "# .append and .reverse are some of the built-in list functions\n",
    "beatles.reverse()\n",
    "print(beatles)"
   ]
  },
  {
   "cell_type": "code",
   "execution_count": 71,
   "metadata": {},
   "outputs": [
    {
     "data": {
      "text/plain": [
       "['Ringo', 'John', 'Paul', 'George', 'all of us']"
      ]
     },
     "execution_count": 71,
     "metadata": {},
     "output_type": "execute_result"
    }
   ],
   "source": [
    "beatles.append(\"all of us\")\n",
    "beatles"
   ]
  },
  {
   "cell_type": "code",
   "execution_count": 72,
   "metadata": {},
   "outputs": [],
   "source": [
    "# We can also use lists to hold numbers\n",
    "odds = [1, 3, 5, 7, 9, 11, 13, 17, 19, 21]"
   ]
  },
  {
   "cell_type": "code",
   "execution_count": 73,
   "metadata": {},
   "outputs": [
    {
     "name": "stdout",
     "output_type": "stream",
     "text": [
      "1\n",
      "The loop is going\n",
      "3\n",
      "The loop is going\n",
      "5\n",
      "The loop is going\n",
      "7\n",
      "The loop is going\n",
      "9\n",
      "The loop is going\n",
      "11\n",
      "The loop is going\n",
      "13\n",
      "The loop is going\n",
      "17\n",
      "The loop is going\n",
      "19\n",
      "The loop is going\n",
      "21\n",
      "The loop is going\n",
      "The Loop is complete.\n"
     ]
    }
   ],
   "source": [
    "# for variable in list:\n",
    "# For each number in the list of odds, do something\n",
    "# thing we do each time through the loop IS the code indented within that loop\n",
    "for number in odds:\n",
    "    print(number)\n",
    "    print(\"The loop is going\")\n",
    "print(\"The Loop is complete.\")"
   ]
  },
  {
   "cell_type": "code",
   "execution_count": 74,
   "metadata": {},
   "outputs": [
    {
     "name": "stdout",
     "output_type": "stream",
     "text": [
      "11\n",
      "13\n",
      "15\n",
      "17\n",
      "19\n",
      "21\n",
      "23\n",
      "27\n",
      "29\n",
      "31\n"
     ]
    }
   ],
   "source": [
    "for number in odds:\n",
    "    print(number + 10)"
   ]
  },
  {
   "cell_type": "code",
   "execution_count": 75,
   "metadata": {},
   "outputs": [
    {
     "data": {
      "text/plain": [
       "[1, 3, 5, 7, 9, 11, 13, 17, 19, 21]"
      ]
     },
     "execution_count": 75,
     "metadata": {},
     "output_type": "execute_result"
    }
   ],
   "source": [
    "odds"
   ]
  },
  {
   "cell_type": "markdown",
   "metadata": {
    "_uuid": "2fa39d1e0b03a084c2a3b409a3f71194d2d40372"
   },
   "source": [
    "### Functions \n",
    "There are 2 kinds of functions in Python: built-in and user defined functions.\n",
    "\n",
    "Some built in functions:\n",
    "- type, print, len, sum, abs, range, list, min, max, round, etc...\n",
    "- For a complete list of build in functions, see https://docs.python.org/3/library/functions.html\n"
   ]
  },
  {
   "cell_type": "code",
   "execution_count": 76,
   "metadata": {},
   "outputs": [
    {
     "data": {
      "text/plain": [
       "17"
      ]
     },
     "execution_count": 76,
     "metadata": {},
     "output_type": "execute_result"
    }
   ],
   "source": [
    "# sum is a built in function\n",
    "numbers = [2, 3, 5, 7]\n",
    "sum(numbers)"
   ]
  },
  {
   "cell_type": "code",
   "execution_count": 77,
   "metadata": {},
   "outputs": [
    {
     "data": {
      "text/plain": [
       "4"
      ]
     },
     "execution_count": 77,
     "metadata": {},
     "output_type": "execute_result"
    }
   ],
   "source": [
    "# len is a built-in function short for length\n",
    "len(numbers)"
   ]
  },
  {
   "cell_type": "code",
   "execution_count": 78,
   "metadata": {},
   "outputs": [
    {
     "data": {
      "text/plain": [
       "4.25"
      ]
     },
     "execution_count": 78,
     "metadata": {},
     "output_type": "execute_result"
    }
   ],
   "source": [
    "sum(numbers) / len(numbers)"
   ]
  },
  {
   "cell_type": "code",
   "execution_count": 79,
   "metadata": {},
   "outputs": [
    {
     "name": "stdout",
     "output_type": "stream",
     "text": [
      "The number of letters in Python is 6\n"
     ]
    }
   ],
   "source": [
    "# The len function also works on strings\n",
    "programming_language = \"Python\"\n",
    "print(\"The number of letters in Python is\", len(programming_language))"
   ]
  },
  {
   "cell_type": "code",
   "execution_count": 80,
   "metadata": {},
   "outputs": [
    {
     "name": "stdout",
     "output_type": "stream",
     "text": [
      "True\n",
      "True\n",
      "False\n",
      "False\n"
     ]
    }
   ],
   "source": [
    "# how to define our own functions\n",
    "# def function_name(variable_name_for_the_input):\n",
    "#      output = guts of the function\n",
    "#      return output\n",
    "def is_even(number):\n",
    "    remainder = number % 2 # the % operator returns the remainder of integer division of the number on the left by the number on the right\n",
    "    if remainder == 0: # even numbers have no remainder\n",
    "        return True\n",
    "    else:\n",
    "        return False\n",
    "\n",
    "# calling a function means to run it\n",
    "print(is_even(2))\n",
    "print(is_even(4))\n",
    "print(is_even(2.3))\n",
    "print(is_even(3))"
   ]
  },
  {
   "cell_type": "code",
   "execution_count": 81,
   "metadata": {
    "_uuid": "c410084e558eb0215cd63e626d1116329aef9329"
   },
   "outputs": [
    {
     "name": "stdout",
     "output_type": "stream",
     "text": [
      "The number of items on the list is 4\n"
     ]
    }
   ],
   "source": [
    "# lots of built in functions work on sequences\n",
    "names = [\"John\", \"Paul\", \"George\", \"Ringo\"]\n",
    "\n",
    "print(\"The number of items on the list is\", len(names))\n"
   ]
  },
  {
   "cell_type": "code",
   "execution_count": 82,
   "metadata": {
    "_uuid": "c410084e558eb0215cd63e626d1116329aef9329"
   },
   "outputs": [
    {
     "name": "stdout",
     "output_type": "stream",
     "text": [
      "The highest number on the list is 7\n",
      "The smallest number on the list is 2\n"
     ]
    }
   ],
   "source": [
    "numbers = [2, 3, 5, 7]\n",
    "print(\"The highest number on the list is\", max(numbers))\n",
    "print(\"The smallest number on the list is\", min(numbers))"
   ]
  },
  {
   "cell_type": "code",
   "execution_count": 83,
   "metadata": {
    "_uuid": "975e69701f4384666bd841fcacc0b75c8caf0fee"
   },
   "outputs": [],
   "source": [
    "# def keyword to define, name_of_function, parentheses for parameters\n",
    "def square(number):\n",
    "    return number * number # return is the output we hand back to the code that called the function (calling == execute == run)"
   ]
  },
  {
   "cell_type": "code",
   "execution_count": 84,
   "metadata": {},
   "outputs": [
    {
     "data": {
      "text/plain": [
       "9"
      ]
     },
     "execution_count": 84,
     "metadata": {},
     "output_type": "execute_result"
    }
   ],
   "source": [
    "square(3)"
   ]
  },
  {
   "cell_type": "code",
   "execution_count": 85,
   "metadata": {},
   "outputs": [
    {
     "data": {
      "text/plain": [
       "16"
      ]
     },
     "execution_count": 85,
     "metadata": {},
     "output_type": "execute_result"
    }
   ],
   "source": [
    "square(4)"
   ]
  },
  {
   "cell_type": "code",
   "execution_count": 86,
   "metadata": {
    "_uuid": "6f3e14214a6d601f28e3a794cab504c67c74c0d8"
   },
   "outputs": [],
   "source": [
    "# How to average a list of numbers.\n",
    "numbers = [2, 3, 5, 7]\n",
    "total = sum(numbers)\n",
    "average = total / len(numbers)\n"
   ]
  },
  {
   "cell_type": "markdown",
   "metadata": {},
   "source": [
    "## To get better at Python faster, see [101 Exercises](https://www.kaggle.com/ryanorsinger/101-exercises/)"
   ]
  }
 ],
 "metadata": {
  "kernelspec": {
   "display_name": "Python 3",
   "language": "python",
   "name": "python3"
  },
  "language_info": {
   "codemirror_mode": {
    "name": "ipython",
    "version": 3
   },
   "file_extension": ".py",
   "mimetype": "text/x-python",
   "name": "python",
   "nbconvert_exporter": "python",
   "pygments_lexer": "ipython3",
   "version": "3.7.3"
  }
 },
 "nbformat": 4,
 "nbformat_minor": 4
}
